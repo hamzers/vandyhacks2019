{
 "cells": [
  {
   "cell_type": "code",
   "execution_count": 99,
   "metadata": {},
   "outputs": [],
   "source": [
    "import requests\n",
    "import pprint"
   ]
  },
  {
   "cell_type": "code",
   "execution_count": 100,
   "metadata": {},
   "outputs": [
    {
     "name": "stdout",
     "output_type": "stream",
     "text": [
      "http://api.giphy.com/v1/gifs/search?api_key=2kouWHaiA0UlxQpKyi9GcsC7uQz1irGv&q=cheeseburgers&limit=1&lang=en\n"
     ]
    }
   ],
   "source": [
    "payload = {'api_key': '2kouWHaiA0UlxQpKyi9GcsC7uQz1irGv', 'q': 'cheeseburgers', 'limit': 1, 'lang': 'en'}\n",
    "r = requests.get('http://api.giphy.com/v1/gifs/search', params=payload)\n",
    "print(r.url)"
   ]
  },
  {
   "cell_type": "code",
   "execution_count": 103,
   "metadata": {
    "scrolled": true
   },
   "outputs": [],
   "source": [
    "def gotData(stuff):\n",
    "    print(stuff.json())"
   ]
  },
  {
   "cell_type": "code",
   "execution_count": 111,
   "metadata": {
    "scrolled": true
   },
   "outputs": [
    {
     "name": "stdout",
     "output_type": "stream",
     "text": [
      "'https://media2.giphy.com/media/ttQ5Jj9Lhn03e/giphy.gif?cid=94c451238a9c07401a07966009f76dbda780e9ccbdc81d54&rid=giphy.gif'\n"
     ]
    }
   ],
   "source": [
    "pprint.pprint(r.json()['data'][0]['images']['original']['url'])"
   ]
  },
  {
   "cell_type": "code",
   "execution_count": null,
   "metadata": {},
   "outputs": [],
   "source": []
  },
  {
   "cell_type": "code",
   "execution_count": null,
   "metadata": {},
   "outputs": [],
   "source": []
  },
  {
   "cell_type": "code",
   "execution_count": null,
   "metadata": {},
   "outputs": [],
   "source": []
  },
  {
   "cell_type": "code",
   "execution_count": null,
   "metadata": {},
   "outputs": [],
   "source": []
  },
  {
   "cell_type": "code",
   "execution_count": null,
   "metadata": {},
   "outputs": [],
   "source": []
  }
 ],
 "metadata": {
  "kernelspec": {
   "display_name": "Python 3",
   "language": "python",
   "name": "python3"
  },
  "language_info": {
   "codemirror_mode": {
    "name": "ipython",
    "version": 3
   },
   "file_extension": ".py",
   "mimetype": "text/x-python",
   "name": "python",
   "nbconvert_exporter": "python",
   "pygments_lexer": "ipython3",
   "version": "3.7.3"
  }
 },
 "nbformat": 4,
 "nbformat_minor": 2
}
